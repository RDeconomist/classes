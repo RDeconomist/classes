{
  "nbformat": 4,
  "nbformat_minor": 0,
  "metadata": {
    "colab": {
      "name": "FREDdownloader.ipynb",
      "provenance": [],
      "authorship_tag": "ABX9TyM9ZQpyqPDpa04bK/x6ib9x",
      "include_colab_link": true
    },
    "kernelspec": {
      "name": "python3",
      "display_name": "Python 3"
    },
    "language_info": {
      "name": "python"
    }
  },
  "cells": [
    {
      "cell_type": "markdown",
      "metadata": {
        "id": "view-in-github",
        "colab_type": "text"
      },
      "source": [
        "<a href=\"https://colab.research.google.com/github/RDeconomist/classes/blob/main/FREDdownloader.ipynb\" target=\"_parent\"><img src=\"https://colab.research.google.com/assets/colab-badge.svg\" alt=\"Open In Colab\"/></a>"
      ]
    },
    {
      "cell_type": "markdown",
      "metadata": {
        "id": "MgW76U999vsX"
      },
      "source": [
        "Richard Davies\n",
        "\n",
        "FRED data downloader"
      ]
    },
    {
      "cell_type": "code",
      "metadata": {
        "id": "FP7IPVZU9pVB"
      },
      "source": [
        "# /// Import tools that we will need:\n",
        "\n",
        "# // Opening web sites and web scraping: \n",
        "import requests\n",
        "\n",
        "# // OS. Sometimes need this for finding working directory:\n",
        "import os\n",
        "\n",
        "# // JSON. This helps us make JSON look prettier and easier to read\n",
        "import json\n",
        "\n",
        "# /// Files.  This is part of Collab - allows you to upload and download files\n",
        "from google.colab import files"
      ],
      "execution_count": null,
      "outputs": []
    },
    {
      "cell_type": "code",
      "metadata": {
        "id": "WSfh5-1M90um"
      },
      "source": [
        "# /// Enter a list of series that we want to collect:\n",
        "\n",
        "# // Set the base url:\n",
        "# \"https://api.stlouisfed.org/fred/series/observations?series_id=PCEPI&api_key=22ee7a76e736e32f54f5df0a7171538d&file_type=json\"\n",
        "# url_base = \"https://api.stlouisfed.org/fred/series/observations?series_id=PCEPI&api_key=22ee7a76e736e32f54f5df0a7171538d&file_type=json\"\n",
        "\n",
        "url_base = \"https://api.stlouisfed.org/fred/series/observations?series_id={}&api_key=22ee7a76e736e32f54f5df0a7171538d&file_type=json\"\n",
        "\n",
        "fredSeries = ['PCEPI', 'CPIAUCSL', 'PAYEMS', 'DGS10', 'INDPRO', 'UNRATE', 'LES1252881600Q']\n",
        "\n",
        "# // Begin a loop, dealing with series one by one:\n",
        "for i in fredSeries:  \n",
        "  \n",
        "   # // Build the URL for this iteration of the loop, and check what we are getting:\n",
        "   URL = url_base.format(i)\n",
        "   print(URL)\n",
        "   \n",
        "   # // Request the html from the URL:\n",
        "   data = requests.get(URL).json()\n",
        "\n",
        "   # // Set the filename, and check what we are getting:\n",
        "   fileName = \"data_FRED-\"+str(i)+\".json\"\n",
        "   print(fileName)\n",
        "\n",
        "   # /// Save the file:\n",
        "   # /// In this case I am adding a filename based on the relevant ONS codes:\n",
        "   with open(fileName, 'w', encoding='utf-8') as f:\n",
        "     json.dump(data, f, ensure_ascii=False, indent=4)\n",
        "\n",
        "   # /// Download the file to local machine, helps with verificaiton of data.\n",
        "   files.download('{}'.format(fileName))"
      ],
      "execution_count": null,
      "outputs": []
    },
    {
      "cell_type": "code",
      "metadata": {
        "id": "LH_8esjP95q_"
      },
      "source": [
        "fredSeries = ['LRIN64TTUSQ156S', 'T10YIE', 'A939RX0Q048SBEA', 'GFDEGDQ188S', 'GOLDAMGBD228NLBM', 'SLVPRUSD', 'PCOPPUSDM']\n",
        "\n",
        "# // Begin a loop, dealing with series one by one:\n",
        "for i in fredSeries:  \n",
        "  \n",
        "   # // Build the URL for this iteration of the loop, and check what we are getting:\n",
        "   URL = url_base.format(i)\n",
        "   print(URL)\n",
        "   \n",
        "   # // Request the html from the URL:\n",
        "   data = requests.get(URL).json()\n",
        "\n",
        "   # // Set the filename, and check what we are getting:\n",
        "   fileName = \"data_FRED-\"+str(i)+\".json\"\n",
        "   print(fileName)\n",
        "\n",
        "   # /// Save the file:\n",
        "   # /// In this case I am adding a filename based on the relevant ONS codes:\n",
        "   with open(fileName, 'w', encoding='utf-8') as f:\n",
        "     json.dump(data, f, ensure_ascii=False, indent=4)\n",
        "\n",
        "   # /// Download the file to local machine, helps with verificaiton of data.\n",
        "   files.download('{}'.format(fileName))"
      ],
      "execution_count": null,
      "outputs": []
    }
  ]
}