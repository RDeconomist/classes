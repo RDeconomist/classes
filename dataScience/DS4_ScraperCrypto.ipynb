{
  "nbformat": 4,
  "nbformat_minor": 0,
  "metadata": {
    "colab": {
      "name": "firstScraper.ipynb",
      "provenance": [],
      "collapsed_sections": [],
      "authorship_tag": "ABX9TyPssY+zkIgiDizndZ/Y6rbW",
      "include_colab_link": true
    },
    "kernelspec": {
      "name": "python3",
      "display_name": "Python 3"
    },
    "language_info": {
      "name": "python"
    }
  },
  "cells": [
    {
      "cell_type": "markdown",
      "metadata": {
        "id": "view-in-github",
        "colab_type": "text"
      },
      "source": [
        "<a href=\"https://colab.research.google.com/github/RDeconomist/classes/blob/main/dataScience/DS4_ScraperCrypto.ipynb\" target=\"_parent\"><img src=\"https://colab.research.google.com/assets/colab-badge.svg\" alt=\"Open In Colab\"/></a>"
      ]
    },
    {
      "cell_type": "markdown",
      "metadata": {
        "id": "MVfixlVBK5we"
      },
      "source": [
        "**Data Science - Cryptocurrency scraper - Richard Davies**\n",
        "\n",
        "Aim of the file:\n",
        "\n",
        "1.   Discuss blocked scrapers and using headers.\n",
        "2.   Extract Cryto prices\n",
        "3.   Pull together into one Dataframe\n",
        "4.   Clean this up\n",
        "\n"
      ]
    },
    {
      "cell_type": "code",
      "metadata": {
        "id": "r-JSinApK49d"
      },
      "source": [
        "# ////////////////////////////////////////////////////////////////\n",
        "# // 1.  Import packages that we might need:\n",
        "# // Packages for data manipulation\n",
        "import numpy as np\n",
        "import pandas as pd\n",
        "# // Web scraping: \n",
        "import requests\n",
        "from bs4 import BeautifulSoup\n",
        "# // OS. Sometimes need this for finding working directory:\n",
        "import os\n",
        "# ////////////////////////////////////////////////////////////////\n",
        "# ////////////////////////////////////////////////////////////////"
      ],
      "execution_count": 2,
      "outputs": []
    },
    {
      "cell_type": "markdown",
      "metadata": {
        "id": "YH5WjG6IPVr7"
      },
      "source": [
        "Step 2 - Pick the URL we want to scrape and extract the html content"
      ]
    },
    {
      "cell_type": "code",
      "metadata": {
        "id": "Vh8EIq2_PVXs"
      },
      "source": [
        "# ////////////////////////////////////////////////////////////////\n",
        "# /// 2.  Set the URL ////////////////////////////////////////////\n",
        "# /// Notes: This could be a list of URLs\n",
        "\n",
        "URL = \"https://uk.investing.com/crypto/currencies\"\n",
        "\n",
        "# /// Do the html request:\n",
        "html = requests.get(URL)\n",
        "soup = BeautifulSoup(html.content, 'html.parser')\n",
        "\n",
        "# ////////////////////////////////////////////////////////////////\n",
        "# ////////////////////////////////////////////////////////////////"
      ],
      "execution_count": 3,
      "outputs": []
    },
    {
      "cell_type": "markdown",
      "metadata": {
        "id": "f5wu9mFuSO2e"
      },
      "source": [
        "Let's see what we have:"
      ]
    },
    {
      "cell_type": "code",
      "metadata": {
        "id": "YVCVVxY3SMqu"
      },
      "source": [
        "soup"
      ],
      "execution_count": null,
      "outputs": []
    },
    {
      "cell_type": "markdown",
      "metadata": {
        "id": "MPhK3jwBPmte"
      },
      "source": [
        "We need to open the page with proper headers, as the site is blocking us thinking that we are a bot."
      ]
    },
    {
      "cell_type": "code",
      "metadata": {
        "id": "eHm4E9kuMAou"
      },
      "source": [
        "from bs4 import BeautifulSoup\n",
        "from urllib.request import Request, urlopen\n",
        "\n",
        "r = Request(\"https://uk.investing.com/crypto/currencies\", headers={\"User-Agent\": \"Mozilla/5.0\"})\n",
        "c = urlopen(r).read()\n",
        "soup = BeautifulSoup(c, \"html.parser\")\n",
        "print(soup)"
      ],
      "execution_count": null,
      "outputs": []
    },
    {
      "cell_type": "markdown",
      "metadata": {
        "id": "o_h5XdsjQwZB"
      },
      "source": [
        "Now we start to eyeball the soup and see where the data is that we want. There are tr and td elements that look promising..."
      ]
    },
    {
      "cell_type": "code",
      "metadata": {
        "id": "NFj2wLuCPhZk"
      },
      "source": [
        "soup_tr = soup.find_all(\"tr\")\n",
        "\n",
        "# /// Now print this out:\n",
        "soup_tr"
      ],
      "execution_count": null,
      "outputs": []
    },
    {
      "cell_type": "code",
      "metadata": {
        "id": "cmDyJu4YM-2y"
      },
      "source": [
        "soup_td = soup.find_all(\"td\", class_=\"price js-currency-price\" )\n",
        "\n",
        "# /// Now print this out:\n",
        "soup_td"
      ],
      "execution_count": null,
      "outputs": []
    },
    {
      "cell_type": "markdown",
      "metadata": {
        "id": "o0lhmMcfNiZr"
      },
      "source": [
        "Now, check that I can get something useful from this:"
      ]
    },
    {
      "cell_type": "code",
      "metadata": {
        "id": "FUm0xy9iNTpr",
        "outputId": "fc12c8c5-d5b2-46b9-9a9d-064f74510dd5",
        "colab": {
          "base_uri": "https://localhost:8080/",
          "height": 35
        }
      },
      "source": [
        "soup_td[0].text"
      ],
      "execution_count": 9,
      "outputs": [
        {
          "output_type": "execute_result",
          "data": {
            "application/vnd.google.colaboratory.intrinsic+json": {
              "type": "string"
            },
            "text/plain": [
              "'45,703.3'"
            ]
          },
          "metadata": {},
          "execution_count": 9
        }
      ]
    },
    {
      "cell_type": "markdown",
      "metadata": {
        "id": "WMYbDBM5NpR0"
      },
      "source": [
        "OK, this is getting better so I look at the soup more closely to find the classes of the data that I want. I then use these in the find all function. "
      ]
    },
    {
      "cell_type": "code",
      "metadata": {
        "id": "g9lHUT-aNyBF"
      },
      "source": [
        "name = soup.find_all(\"td\", class_=\"left bold elp name cryptoName first js-currency-name\")\n",
        "ticker = soup.find_all(\"td\", class_=\"left noWrap elp symb js-currency-symbol\")\n",
        "price = soup.find_all(\"td\", class_=\"price js-currency-price\")\n",
        "mktcap = soup.find_all(\"td\", class_=\"js-market-cap\")\n",
        "volume = soup.find_all(\"td\", class_=\"js-24h-volume\")\n",
        "\n",
        "data = [name, ticker, price, mktcap, volume]\n",
        "data"
      ],
      "execution_count": null,
      "outputs": []
    },
    {
      "cell_type": "markdown",
      "metadata": {
        "id": "p5vhdjLSQJ_Q"
      },
      "source": [
        "The result of this is a very big and messy list of data. I can isolate particular elements by specifying which part of the array they are in. \n",
        "\n",
        "Check that you understand the difference between these two blocks..."
      ]
    },
    {
      "cell_type": "code",
      "metadata": {
        "id": "QoX5p9q0QXZx",
        "outputId": "a8303250-f86b-4e3e-9763-a5e3645eeb1f",
        "colab": {
          "base_uri": "https://localhost:8080/"
        }
      },
      "source": [
        "print(data[0][0].text)\n",
        "print(data[0][1].text)\n",
        "print(data[0][2].text)\n",
        "print(data[0][3].text)\n",
        "print(data[0][4].text)"
      ],
      "execution_count": 17,
      "outputs": [
        {
          "output_type": "stream",
          "text": [
            "Bitcoin\n",
            "Ethereum\n",
            "Binance Coin\n",
            "Cardano\n",
            "Tether\n"
          ],
          "name": "stdout"
        }
      ]
    },
    {
      "cell_type": "code",
      "metadata": {
        "id": "iJpucFgeRA5K",
        "outputId": "4b0c3bdd-13f5-45a8-a0b7-c0326459c010",
        "colab": {
          "base_uri": "https://localhost:8080/"
        }
      },
      "source": [
        "print(data[0][0].text)\n",
        "print(data[1][0].text)\n",
        "print(data[2][0].text)\n",
        "print(data[3][0].text)\n",
        "print(data[4][0].text)"
      ],
      "execution_count": 18,
      "outputs": [
        {
          "output_type": "stream",
          "text": [
            "Bitcoin\n",
            "BTC\n",
            "45,703.3\n",
            "$859.72B\n",
            "$33.92B\n"
          ],
          "name": "stdout"
        }
      ]
    },
    {
      "cell_type": "code",
      "metadata": {
        "id": "__LILeOTRMlD",
        "outputId": "1127dfef-3c48-411b-c91a-4f8e78183ca8",
        "colab": {
          "base_uri": "https://localhost:8080/"
        }
      },
      "source": [
        "# // To get the length of our results:\n",
        "length = len(name)\n",
        "print(length)\n",
        "\n",
        "# // Set up some empty vectors to fill:\n",
        "results = np.empty(length, dtype='S7')\n"
      ],
      "execution_count": 22,
      "outputs": [
        {
          "output_type": "stream",
          "text": [
            "100\n"
          ],
          "name": "stdout"
        }
      ]
    },
    {
      "cell_type": "code",
      "metadata": {
        "id": "HB8A1CwiS2Pr"
      },
      "source": [
        "# // To get some clean results:\n",
        "for i in range(0, length):\n",
        "   results[i] = name[i].text\n",
        "\n",
        "print(results)"
      ],
      "execution_count": null,
      "outputs": []
    },
    {
      "cell_type": "markdown",
      "metadata": {
        "id": "2iWPKhzqTqZ0"
      },
      "source": [
        "Now I want to do this in a more sytematic way for all of the things we have found:"
      ]
    },
    {
      "cell_type": "code",
      "metadata": {
        "id": "R2fyihsDTwC8",
        "outputId": "41f70466-171a-419c-d826-05b8daf3ea1f",
        "colab": {
          "base_uri": "https://localhost:8080/"
        }
      },
      "source": [
        "nameD = np.empty(length, dtype='S15')\n",
        "tickerD = np.empty(length, dtype='S15')\n",
        "priceD = np.empty(length, dtype='S15')\n",
        "mktcapD = np.empty(length, dtype='S15')\n",
        "volumeD = np.empty(length, dtype='S15')\n",
        "\n",
        "# // To get some clean results:\n",
        "for i in range(0, length):\n",
        "   nameD[i] = name[i].text\n",
        "   tickerD[i] = ticker[i].text\n",
        "   priceD[i] = price[i].text\n",
        "   mktcapD[i] = mktcap[i].text\n",
        "   volumeD[i] = volume[i].text\n",
        "\n",
        "print(tickerD)"
      ],
      "execution_count": 34,
      "outputs": [
        {
          "output_type": "stream",
          "text": [
            "[b'BTC' b'ETH' b'BNB' b'ADA' b'USDT' b'XRP' b'DOGE' b'USDC' b'DOT' b'SOL'\n",
            " b'UNI' b'LUNA' b'BCH' b'BUSD' b'LINK' b'LTC' b'ICP' b'WBTC' b'MATIC'\n",
            " b'XLM' b'ETC' b'VET' b'THETA' b'FIL' b'TRX' b'DAI' b'AAVE' b'AVAX' b'EOS'\n",
            " b'XMR' b'CAKE' b'KLAY' b'FTT' b'GRT' b'AXS' b'ATOM' b'NEO' b'CRO' b'MKR'\n",
            " b'BTCB' b'ALGO' b'SHIB' b'XTZ' b'BSV' b'LEO' b'MIOTA' b'BTT' b'EGLD'\n",
            " b'KSM' b'AMP' b'WAVES' b'COMP' b'HT' b'KICK' b'QNT' b'UST' b'HBAR'\n",
            " b'DASH' b'DCR' b'CHZ' b'RUNE' b'HNT' b'NEAR' b'ZEC' b'HOT' b'XEM'\n",
            " b'SUSHI' b'TFUEL' b'STX' b'CEL' b'MANA' b'YFI' b'SNX' b'VGX' b'TUSD'\n",
            " b'AUDIO' b'RVN' b'OKB' b'ENJ' b'QTUM' b'FLOW' b'FTM' b'ZIL' b'BAT' b'BTG'\n",
            " b'XEC' b'ONE' b'AR' b'NEXO' b'SAFEMOON' b'TEL' b'CHSB' b'PAX' b'BNT'\n",
            " b'DGB' b'REV' b'ONT' b'CELO' b'PERP' b'KCS']\n"
          ],
          "name": "stdout"
        }
      ]
    },
    {
      "cell_type": "markdown",
      "metadata": {
        "id": "webAQYk2Ui5P"
      },
      "source": [
        "Now concert this to a DataFrame"
      ]
    },
    {
      "cell_type": "code",
      "metadata": {
        "id": "nZ5S7SNJUr4f",
        "outputId": "43141820-eb29-4238-9117-2ea5007093d0",
        "colab": {
          "base_uri": "https://localhost:8080/"
        }
      },
      "source": [
        "df = pd.DataFrame(nameD)\n",
        "\n",
        "# // Name the column\n",
        "df.columns = ['Name']\n",
        "\n",
        "# // Add extra columns\n",
        "df['Ticker'] = tickerD\n",
        "df['Price'] = priceD\n",
        "df['MarketCap'] = mktcapD\n",
        "df['Volume'] = volumeD\n",
        "\n",
        "print(df)"
      ],
      "execution_count": 35,
      "outputs": [
        {
          "output_type": "stream",
          "text": [
            "                  Name   Ticker        Price    MarketCap       Volume\n",
            "0           b'Bitcoin'   b'BTC'  b'45,703.3'  b'$859.72B'   b'$33.92B'\n",
            "1          b'Ethereum'   b'ETH'  b'3,060.93'  b'$358.78B'   b'$19.14B'\n",
            "2      b'Binance Coin'   b'BNB'    b'420.76'   b'$70.74B'    b'$2.45B'\n",
            "3           b'Cardano'   b'ADA'  b'2.137426'   b'$68.03B'    b'$5.32B'\n",
            "4            b'Tether'  b'USDT'    b'1.0002'   b'$64.20B'   b'$76.46B'\n",
            "..                 ...      ...          ...          ...          ...\n",
            "95           b'Revain'   b'REV'   b'0.00998'  b'$881.15M'    b'$3.28M'\n",
            "96         b'Ontology'   b'ONT'     b'1.003'  b'$877.93M'  b'$143.81M'\n",
            "97             b'Celo'  b'CELO'    b'3.0459'  b'$872.89M'   b'$24.78M'\n",
            "98  b'Perpetual Proto'  b'PERP'   b'19.6245'  b'$872.32M'  b'$178.64M'\n",
            "99     b'KuCoin Token'   b'KCS'    b'10.863'  b'$872.15M'   b'$13.17M'\n",
            "\n",
            "[100 rows x 5 columns]\n"
          ],
          "name": "stdout"
        }
      ]
    },
    {
      "cell_type": "markdown",
      "metadata": {
        "id": "LzHRkmiNV5fD"
      },
      "source": [
        "We note that the data has a b prefix indicating \"byte\" - we need to decode this:"
      ]
    },
    {
      "cell_type": "code",
      "metadata": {
        "id": "KXdnQbNRWAez",
        "outputId": "de1a9bc0-b1ad-4df6-cdea-5d69bcc7566c",
        "colab": {
          "base_uri": "https://localhost:8080/"
        }
      },
      "source": [
        "df['Name'] = df['Name'].str.decode(\"utf-8\")\n",
        "df['Ticker'] = df['Ticker'].str.decode(\"utf-8\")\n",
        "#df['Price'] = df['Price'].str.decode(\"utf-8\")\n",
        "df['MarketCap'] = df['MarketCap'].str.decode(\"utf-8\")\n",
        "df['Volume'] = df['Volume'].str.decode(\"utf-8\")\n",
        "\n",
        "print(df)"
      ],
      "execution_count": 36,
      "outputs": [
        {
          "output_type": "stream",
          "text": [
            "               Name Ticker        Price MarketCap    Volume\n",
            "0           Bitcoin    BTC  b'45,703.3'  $859.72B   $33.92B\n",
            "1          Ethereum    ETH  b'3,060.93'  $358.78B   $19.14B\n",
            "2      Binance Coin    BNB    b'420.76'   $70.74B    $2.45B\n",
            "3           Cardano    ADA  b'2.137426'   $68.03B    $5.32B\n",
            "4            Tether   USDT    b'1.0002'   $64.20B   $76.46B\n",
            "..              ...    ...          ...       ...       ...\n",
            "95           Revain    REV   b'0.00998'  $881.15M    $3.28M\n",
            "96         Ontology    ONT     b'1.003'  $877.93M  $143.81M\n",
            "97             Celo   CELO    b'3.0459'  $872.89M   $24.78M\n",
            "98  Perpetual Proto   PERP   b'19.6245'  $872.32M  $178.64M\n",
            "99     KuCoin Token    KCS    b'10.863'  $872.15M   $13.17M\n",
            "\n",
            "[100 rows x 5 columns]\n"
          ],
          "name": "stdout"
        }
      ]
    },
    {
      "cell_type": "markdown",
      "metadata": {
        "id": "j3_EiV9WWxhe"
      },
      "source": [
        "Problem: have an error in the price above, which will not decode..."
      ]
    }
  ]
}